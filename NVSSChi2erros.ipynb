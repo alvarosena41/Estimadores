{
 "cells": [
  {
   "cell_type": "code",
   "execution_count": 3,
   "metadata": {},
   "outputs": [],
   "source": [
    "import numba\n",
    "import numpy as np\n",
    "import pandas as pd\n",
    "import matplotlib.pyplot as plt\n",
    "from scipy.optimize import minimize\n",
    "\n",
    "from scipy.stats import circmean, circstd\n",
    "\n",
    "import healpy as hp\n",
    "from astropy.table import Table\n",
    "from astropy.io import fits\n",
    "from astropy import units as u\n",
    "from astropy.coordinates import SkyCoord as SkyCoord"
   ]
  },
  {
   "cell_type": "code",
   "execution_count": 4,
   "metadata": {},
   "outputs": [],
   "source": [
    "nside = 64\n",
    "npix = hp.nside2npix(nside)"
   ]
  },
  {
   "cell_type": "code",
   "execution_count": 5,
   "metadata": {},
   "outputs": [],
   "source": [
    "# Elimando fonte que estejam com B em [-b,b]\n",
    "def galactic_cut(data,RA_column_index,Dec_column_index,Lim_inf,Lim_sup):\n",
    "\n",
    "    data_array = np.array(data)\n",
    "\n",
    "    ra_column_array = data_array[:,RA_column_index]\n",
    "    dec_column_array = data_array[:,Dec_column_index]\n",
    "\n",
    "    c = SkyCoord(ra_column_array,dec_column_array, frame='icrs', unit='deg')\n",
    "\n",
    "    b_array = np.array(c.galactic.b)\n",
    "\n",
    "    Index = 0\n",
    "    Index_list = []\n",
    "    for b in b_array:\n",
    "        if b > Lim_inf  and b < Lim_sup:\n",
    "            Index_list.append(Index)\n",
    "        Index+=1\n",
    "\n",
    "    index_to_delete = np.array(Index_list)\n",
    "    new_data_array = np.delete(data_array,index_to_delete,axis=0)\n",
    "    new_data = pd.DataFrame(new_data_array,columns=data.columns.values)\n",
    "\n",
    "    return new_data"
   ]
  },
  {
   "cell_type": "code",
   "execution_count": 6,
   "metadata": {},
   "outputs": [],
   "source": [
    "name = 'NVSS'\n",
    "filename = 'NVSS_Catalog.fits'\n",
    "hdu = fits.open(filename)\n",
    "nvss = hdu[1].data\n",
    "nvss = Table(nvss)\n",
    "nvss = nvss.to_pandas()\n",
    "\n",
    "# Corte de Fluxo 20 mJy < S < 1000 mJy\n",
    "nvss = nvss[(20 <= nvss['FLUX_20_CM']) & (nvss['FLUX_20_CM'] <= 1000)]\n",
    "\n",
    "cut_b = 20\n",
    "nvss = galactic_cut(nvss,0,1,-cut_b,cut_b)\n",
    "\n",
    "C_nvss = SkyCoord(nvss['RA'],nvss['DEC'], frame='icrs', unit='deg')\n",
    "l, b  = C_nvss.galactic.l.value, C_nvss.galactic.b.value"
   ]
  },
  {
   "cell_type": "code",
   "execution_count": 7,
   "metadata": {},
   "outputs": [],
   "source": [
    "data = nvss \n",
    "nside = 64\n",
    "npix = hp.nside2npix(nside)\n",
    "# Obtendo os angulos dos pixels em coordenadas esféricas padrão em radianos\n",
    "thetas_pixels, phis_pixels = hp.pix2ang(nside, np.arange(npix))\n",
    "# obtendo as coordenadas centrais cartesianas de cada pixel\n",
    "central_pixels_positions = hp.ang2vec(thetas_pixels,phis_pixels)\n",
    "\n",
    "# obtendo as coordenadas cartesianas de cada fontes\n",
    "#l, b = data['l'], data['b']\n",
    "phis_fontes, thetas_fontes = np.radians(l), np.radians(90.0 - b)\n",
    "coord_ca_cartesian_array = hp.ang2vec(thetas_fontes,phis_fontes)\n",
    "\n",
    "pix_indices = hp.ang2pix(nside, thetas_fontes, phis_fontes)\n",
    "# Contando o número de fontes em cada pixel\n",
    "density_map = np.bincount(pix_indices, minlength=npix)"
   ]
  },
  {
   "cell_type": "code",
   "execution_count": 8,
   "metadata": {},
   "outputs": [],
   "source": [
    "def exclui_pixels_vazios(density_map,thetas_pixels,phis_pixels):\n",
    "    \n",
    "    indices_para_excluir = np.where(density_map==0)[0]\n",
    "    density_map = np.delete(density_map,indices_para_excluir)\n",
    "\n",
    "    thetas_pixels = np.delete(thetas_pixels,indices_para_excluir)\n",
    "    phis_pixels = np.delete(phis_pixels,indices_para_excluir)\n",
    "\n",
    "    n_x = np.sin(thetas_pixels)*np.cos(phis_pixels)\n",
    "    n_y = np.sin(thetas_pixels)*np.sin(phis_pixels)\n",
    "    n_z = np.cos(thetas_pixels)\n",
    "\n",
    "    n_vec = np.stack([n_x,n_y,n_z],axis=1)\n",
    "\n",
    "    return density_map, n_vec"
   ]
  },
  {
   "cell_type": "code",
   "execution_count": 9,
   "metadata": {},
   "outputs": [],
   "source": [
    "Ni, n_vec = exclui_pixels_vazios(density_map,thetas_pixels,phis_pixels)"
   ]
  },
  {
   "cell_type": "code",
   "execution_count": 10,
   "metadata": {},
   "outputs": [],
   "source": [
    "M, d_vec = np.mean(density_map), np.array([0.01, 0.01, 0.01])\n",
    "initial_guess = [M, d_vec[0], d_vec[1], d_vec[2]]"
   ]
  },
  {
   "cell_type": "code",
   "execution_count": null,
   "metadata": {},
   "outputs": [
    {
     "name": "stdout",
     "output_type": "stream",
     "text": [
      "\n",
      "Minimizando χ2\n",
      "Rodando uma única vez (Método Nelder-Mead)\n",
      "|D_relativo|=0.0294\n",
      "|D_absoluto|=0.189\n"
     ]
    },
    {
     "data": {
      "text/plain": [
       "(array([232.39590568]), array([66.62910383]))"
      ]
     },
     "execution_count": 20,
     "metadata": {},
     "output_type": "execute_result"
    }
   ],
   "source": [
    "def chi2(params):\n",
    "    M0 = params[0]\n",
    "    d_vec = params[1:]\n",
    "    \n",
    "    N_i_model = N_i_model = M0 + np.dot(n_vec,d_vec)\n",
    "    \n",
    "    chi2_value = np.sum((Ni - N_i_model)**2 / Ni)\n",
    "    \n",
    "    return chi2_value\n",
    "\n",
    "print('') \n",
    "print('Minimizando χ2')\n",
    "initial_guess = [M, d_vec[0], d_vec[1], d_vec[2]]\n",
    "\n",
    "print('Rodando uma única vez (Método Nelder-Mead)')\n",
    "result = minimize(chi2, initial_guess, method='Nelder-Mead')\n",
    "\n",
    "M0_best, Dx_best, Dy_best, Dz_best = result.x[0], result.x[1], result.x[2], result.x[3]\n",
    "\n",
    "# anisotropia_dipolar:\n",
    "D_modulo_relativo = np.sqrt((Dx_best**2)+(Dy_best**2)+(Dz_best**2))/M0_best\n",
    "print(f'|D_relativo|={D_modulo_relativo:.4f}')\n",
    "\n",
    "D_modulo_absoluto = np.sqrt(Dx_best**2 + Dy_best**2 + Dz_best**2)\n",
    "print(f'|D_absoluto|={D_modulo_absoluto:.3f}')\n",
    "\n",
    "n = np.array([Dx_best,Dy_best,Dz_best])/np.linalg.norm(D_modulo_absoluto)\n",
    "\n",
    "theta_n, phi_n = hp.vec2ang(n)\n",
    "l_result, b_result  = np.degrees(phi_n), 90 - np.degrees(theta_n)\n",
    "l_result, b_result"
   ]
  },
  {
   "cell_type": "markdown",
   "metadata": {},
   "source": [
    "Craindo mapas simulados\n",
    "\n",
    "Usando **np.random.poisson(Np)** em capa pixel, onde **Np** é a contidade de fontes do catálogo original"
   ]
  },
  {
   "cell_type": "code",
   "execution_count": 20,
   "metadata": {},
   "outputs": [],
   "source": [
    "def mapa_simulado_mask(density_map):\n",
    "\n",
    "    map = []\n",
    "    for Np in density_map:\n",
    "\n",
    "        N_simulado = np.random.poisson(Np)\n",
    "        map.append(N_simulado)\n",
    "    # Convertendo density_map para float64 para suportar hp.UNSEEN\n",
    "    map = np.array(map)\n",
    "    novo_map = map.astype(np.float64)\n",
    "    # Criando a máscara para os pixels onde não há fontes (valor zero)\n",
    "    mask = novo_map > 0\n",
    "    # Aplicando a máscara ao mapa para criar um mapa mascarado\n",
    "    masked_map = np.copy(novo_map)\n",
    "    masked_map[~mask] = hp.UNSEEN\n",
    "    return masked_map, np.sum(map)\n",
    "\n",
    "def mapa_simulado_unmask(density_map):\n",
    "\n",
    "    map = []\n",
    "    for Np in density_map:\n",
    "\n",
    "        N_simulado = np.random.poisson(Np)\n",
    "        map.append(N_simulado)\n",
    "    # Convertendo density_map para float64 para suportar hp.UNSEEN\n",
    "    map = np.array(map)\n",
    "    novo_map = map.astype(np.float64)\n",
    "    return novo_map, np.sum(novo_map)"
   ]
  },
  {
   "cell_type": "code",
   "execution_count": 40,
   "metadata": {},
   "outputs": [],
   "source": [
    "def erros(num, density_map):\n",
    "    #num = 1000\n",
    "\n",
    "    D_re_lista = []\n",
    "    D_abs_lista = []\n",
    "    l_lista=[]\n",
    "    b_lista=[]\n",
    "    for _ in range(num):\n",
    "\n",
    "        simulado, total_fontes = mapa_simulado_unmask(density_map)\n",
    "        Ni1, n_vec1 = exclui_pixels_vazios(simulado,thetas_pixels,phis_pixels)\n",
    "\n",
    "        #print('Quantidade de fontes:',total_fontes)\n",
    "\n",
    "        def chi2(params):\n",
    "            M0 = params[0]\n",
    "            d_vec = params[1:]\n",
    "            \n",
    "            N_i_model = N_i_model = M0 + np.dot(n_vec1,d_vec)\n",
    "            \n",
    "            chi2_value = np.sum((Ni1 - N_i_model)**2 / Ni1)\n",
    "            \n",
    "            return chi2_value\n",
    "        \n",
    "        #print('Novo array density_map:',Ni1)\n",
    "        #print('Quantidade de pixels visiveis:',len(Ni1))\n",
    "\n",
    "        M, d_vec1 = np.mean(simulado), np.array([0.01, 0.01, 0.01])\n",
    "\n",
    "        #print('') \n",
    "        #print('Minimizando χ2')\n",
    "        initial_guess = [M, d_vec1[0], d_vec1[1], d_vec1[2]]\n",
    "\n",
    "        #print('Rodando uma única vez (Método Nelder-Mead)')\n",
    "        result1 = minimize(chi2, initial_guess, method='Nelder-Mead')\n",
    "\n",
    "        M0_best1, Dx_best1, Dy_best1, Dz_best1 = result1.x[0], result1.x[1], result1.x[2], result1.x[3]\n",
    "\n",
    "        # anisotropia_dipolar:\n",
    "        D_modulo_relativo1 = np.sqrt((Dx_best1**2)+(Dy_best1**2)+(Dz_best1**2))/M0_best1\n",
    "        #print(f'|D_relativo|={D_modulo_relativo1:.4f}')\n",
    "        D_re_lista.append(D_modulo_relativo1)\n",
    "\n",
    "        D_modulo_absoluto1 = np.sqrt(Dx_best1**2 + Dy_best1**2 + Dz_best1**2)\n",
    "        #print(f'|D_absoluto|={D_modulo_absoluto1:.3f}')\n",
    "        D_abs_lista.append(D_modulo_absoluto1)\n",
    "\n",
    "        n1 = np.array([Dx_best1,Dy_best1,Dz_best1])/np.linalg.norm(D_modulo_absoluto1)\n",
    "\n",
    "        theta_n1, phi_n1 = hp.vec2ang(n1)\n",
    "        l_result1, b_result1  = np.degrees(phi_n1), 90 - np.degrees(theta_n1)\n",
    "\n",
    "        #print(l_result1, b_result1)\n",
    "        l_lista.append(l_result1)\n",
    "        b_lista.append(b_result1)\n",
    "\n",
    "    D_re_array = np.array(D_re_lista)\n",
    "    D_re_mean, D_re_std = np.mean(D_re_array), np.std(D_re_array)\n",
    "    print(f'D_rel = {D_re_mean:.3f} ± {D_re_std:.3f}')\n",
    "\n",
    "    D_abs_array = np.array(D_abs_lista)\n",
    "    D_abs_mean, D_abs_std = np.mean(D_abs_array), np.std(D_abs_array)\n",
    "    \n",
    "    print(f'D_abs = {D_abs_mean:.2f} ± {D_abs_std:.2f}')\n",
    "\n",
    "    # Latitude Galáctica\n",
    "    l_lista = np.array(l_lista)\n",
    "    l_rad = np.radians(l_lista)\n",
    "    # Latitude Média\n",
    "    l_mean_rad = circmean(l_rad, high=2*np.pi, low=0)\n",
    "    l_mean_deg = np.degrees(l_mean_rad)\n",
    "    # Latitude desvio \n",
    "    l_std_rad = circstd(l_rad, high=np.pi, low=-np.pi)\n",
    "    l_std_deg = np.degrees(l_std_rad)\n",
    "    #print(f'l: {l_mean_deg:.2f}°')\n",
    "    #print(f'dl: {l_std_deg:.2f}°')\n",
    "\n",
    "    # Longitude Galáctica\n",
    "    b_lista = np.array(b_lista)\n",
    "    b_rad = np.radians(b_lista)\n",
    "    # Longitude Média\n",
    "    b_mean_rad = circmean(b_rad, high=np.pi, low=-np.pi)\n",
    "    b_mean_deg = np.degrees(b_mean_rad)\n",
    "    # Longitude desvio\n",
    "    b_std_rad = circstd(b_rad, high=np.pi, low=-np.pi)\n",
    "    b_std_deg = np.degrees(b_std_rad)\n",
    "    #print(f'b: {b_mean_deg:.2f}°')\n",
    "    #print(f'db:{b_std_deg:.2f}°')\n",
    "\n",
    "    print(f'(l,b) = {l_mean_deg:.2f}°±{l_std_deg:.2f}°, {b_mean_deg:.2f}°±{b_std_deg:.2f}°')\n",
    "    return 0"
   ]
  },
  {
   "cell_type": "code",
   "execution_count": 41,
   "metadata": {},
   "outputs": [
    {
     "name": "stdout",
     "output_type": "stream",
     "text": [
      "D_rel = 0.030 ± 0.006\n",
      "D_abs = 0.16 ± 0.04\n",
      "(l,b) = 223.11°±35.74°, 54.89°±13.35°\n"
     ]
    },
    {
     "data": {
      "text/plain": [
       "0"
      ]
     },
     "execution_count": 41,
     "metadata": {},
     "output_type": "execute_result"
    }
   ],
   "source": [
    "erros(1000,density_map)"
   ]
  },
  {
   "cell_type": "markdown",
   "metadata": {},
   "source": [
    "Erros ainda são muito grandes"
   ]
  }
 ],
 "metadata": {
  "kernelspec": {
   "display_name": ".venv",
   "language": "python",
   "name": "python3"
  },
  "language_info": {
   "codemirror_mode": {
    "name": "ipython",
    "version": 3
   },
   "file_extension": ".py",
   "mimetype": "text/x-python",
   "name": "python",
   "nbconvert_exporter": "python",
   "pygments_lexer": "ipython3",
   "version": "3.12.3"
  }
 },
 "nbformat": 4,
 "nbformat_minor": 2
}
